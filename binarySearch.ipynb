{
  "nbformat": 4,
  "nbformat_minor": 0,
  "metadata": {
    "colab": {
      "provenance": [],
      "authorship_tag": "ABX9TyMDnxnieVs/n65ts7+Wd2JN",
      "include_colab_link": true
    },
    "kernelspec": {
      "name": "python3",
      "display_name": "Python 3"
    },
    "language_info": {
      "name": "python"
    }
  },
  "cells": [
    {
      "cell_type": "markdown",
      "metadata": {
        "id": "view-in-github",
        "colab_type": "text"
      },
      "source": [
        "<a href=\"https://colab.research.google.com/github/tkb1902/Books/blob/main/binarySearch.ipynb\" target=\"_parent\"><img src=\"https://colab.research.google.com/assets/colab-badge.svg\" alt=\"Open In Colab\"/></a>"
      ]
    },
    {
      "cell_type": "code",
      "execution_count": null,
      "metadata": {
        "id": "b20eAkwVEmlg"
      },
      "outputs": [],
      "source": [
        "#Binary Search algorithm\n",
        "#Requires ordered array and knowledge of the first and last position and median\n",
        "#checks the target percintile and it removes the data which is not there recursively\n"
      ]
    },
    {
      "cell_type": "code",
      "source": [
        "def BinarySearch(arr,first,last,target):\n",
        "  if first>last:\n",
        "    return False\n",
        "\n",
        "  mid = (first + last)//2\n",
        "\n",
        "  if target==arr[mid]:\n",
        "       return True\n",
        "\n",
        "  elif target<arr[mid]:\n",
        "    return BinarySearch(arr,first,mid-1,target)\n",
        "\n",
        "  elif target>arr[mid]:\n",
        "    return BinarySearch(arr,mid+1,last,target)\n",
        "\n",
        "\n",
        "\n"
      ],
      "metadata": {
        "id": "elOqpapRHYE0"
      },
      "execution_count": 21,
      "outputs": []
    },
    {
      "cell_type": "code",
      "source": [
        "arr=[1,2,3,4,5,6,7,8,9]\n",
        "\n",
        "BinarySearch(arr,0,len(arr)-1,0)"
      ],
      "metadata": {
        "colab": {
          "base_uri": "https://localhost:8080/"
        },
        "id": "3ZPFS24-NG0k",
        "outputId": "a23333b4-20e9-4b19-d5f4-8f96ef794250"
      },
      "execution_count": 24,
      "outputs": [
        {
          "output_type": "execute_result",
          "data": {
            "text/plain": [
              "False"
            ]
          },
          "metadata": {},
          "execution_count": 24
        }
      ]
    }
  ]
}