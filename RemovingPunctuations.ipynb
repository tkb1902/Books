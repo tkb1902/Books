{
  "nbformat": 4,
  "nbformat_minor": 0,
  "metadata": {
    "colab": {
      "provenance": [],
      "authorship_tag": "ABX9TyMZTWSl0tfS3Xrylj6x+9Lm",
      "include_colab_link": true
    },
    "kernelspec": {
      "name": "python3",
      "display_name": "Python 3"
    },
    "language_info": {
      "name": "python"
    }
  },
  "cells": [
    {
      "cell_type": "markdown",
      "metadata": {
        "id": "view-in-github",
        "colab_type": "text"
      },
      "source": [
        "<a href=\"https://colab.research.google.com/github/tkb1902/Books/blob/main/RemovingPunctuations.ipynb\" target=\"_parent\"><img src=\"https://colab.research.google.com/assets/colab-badge.svg\" alt=\"Open In Colab\"/></a>"
      ]
    },
    {
      "cell_type": "code",
      "execution_count": 1,
      "metadata": {
        "colab": {
          "base_uri": "https://localhost:8080/"
        },
        "id": "5B6X0KW-pIlm",
        "outputId": "122ba7f7-e5d5-4368-f983-1122f30531f2"
      },
      "outputs": [
        {
          "output_type": "stream",
          "name": "stdout",
          "text": [
            "Hello there how are you doing what is going on  huh\n"
          ]
        }
      ],
      "source": [
        "punctuations = '''(!()-[]{};:'\"\\,<>./?@#$%^&*_~'''\n",
        "my_str = \"Hello!!! there how are you doing what is going on ... huh?\"\n",
        "\n",
        "no_punct =\"\"\n",
        "for char in my_str:\n",
        "  if (char not in punctuations):\n",
        "    no_punct = no_punct + char\n",
        "\n",
        "print(no_punct)"
      ]
    }
  ]
}